{
  "nbformat": 4,
  "nbformat_minor": 0,
  "metadata": {
    "colab": {
      "provenance": [],
      "authorship_tag": "ABX9TyPlQESF2ZQHpJlJX8suGY3W",
      "include_colab_link": true
    },
    "kernelspec": {
      "name": "python3",
      "display_name": "Python 3"
    },
    "language_info": {
      "name": "python"
    }
  },
  "cells": [
    {
      "cell_type": "markdown",
      "metadata": {
        "id": "view-in-github",
        "colab_type": "text"
      },
      "source": [
        "<a href=\"https://colab.research.google.com/github/ikabrain/MiniProject04/blob/main/combo_finder.ipynb\" target=\"_parent\"><img src=\"https://colab.research.google.com/assets/colab-badge.svg\" alt=\"Open In Colab\"/></a>"
      ]
    },
    {
      "cell_type": "markdown",
      "source": [
        "---\n",
        "# ComboFinder\n",
        "---\n",
        "### Problem Statement:\n",
        "Find all the list of products whose sum of prices is between 290 and 310.\n",
        "\n",
        "`ProductList = {p1: 10, p2: 15, p3: 20, p4: 25, p5: 30, p6: 35, p7: 50}`"
      ],
      "metadata": {
        "id": "XlN6L96j4k29"
      }
    },
    {
      "cell_type": "code",
      "source": [
        "import random\n",
        "import time\n",
        "\n",
        "ProductList = {'p01':10, 'p02':15, 'p03':20, 'p04':25, 'p05':30, 'p06':35, 'p07':50,'p08':40, 'p09':55, 'p10':60, 'p11':65, 'p12':75, 'p13':70, 'p14':45}\n",
        "l = 290; u = 310\n",
        "max_iter = 10**3\n",
        "ans = set()\n",
        "\n",
        "st = time.time()\n",
        "for _ in range(max_iter):\n",
        "    k = random.randint(1, len(ProductList))\n",
        "    combo = tuple(sorted(random.sample(tuple(ProductList.keys()), k)))\n",
        "    s = sum([ProductList[product] for product in combo])\n",
        "    if l <= s and s <= u:\n",
        "        ans.add(combo)\n",
        "et = time.time()\n",
        "\n",
        "print(\"Number of combos found =\", len(ans))\n",
        "print(f\"Time taken to find combos = {et-st:.3f} sec\")\n",
        "print()\n",
        "for combo in ans:\n",
        "    print(combo)"
      ],
      "metadata": {
        "id": "2sQmxnVk5HEH",
        "colab": {
          "base_uri": "https://localhost:8080/"
        },
        "outputId": "c3b9ba03-f85b-48b8-9afc-b1ecaef97d53"
      },
      "execution_count": 5,
      "outputs": [
        {
          "output_type": "stream",
          "name": "stdout",
          "text": [
            "Number of combos found = 35\n",
            "Time taken to find combos = 0.007 sec\n",
            "\n",
            "('p01', 'p07', 'p10', 'p11', 'p12', 'p14')\n",
            "('p03', 'p04', 'p06', 'p07', 'p08', 'p09', 'p12')\n",
            "('p01', 'p02', 'p04', 'p05', 'p06', 'p10', 'p13', 'p14')\n",
            "('p01', 'p02', 'p04', 'p06', 'p07', 'p08', 'p09', 'p12')\n",
            "('p01', 'p02', 'p04', 'p06', 'p07', 'p09', 'p11', 'p14')\n",
            "('p02', 'p03', 'p04', 'p08', 'p10', 'p12', 'p13')\n",
            "('p03', 'p08', 'p09', 'p10', 'p13', 'p14')\n",
            "('p01', 'p02', 'p03', 'p05', 'p07', 'p11', 'p13', 'p14')\n",
            "('p02', 'p03', 'p06', 'p08', 'p09', 'p10', 'p11')\n",
            "('p02', 'p03', 'p04', 'p07', 'p09', 'p10', 'p11')\n",
            "('p02', 'p03', 'p07', 'p08', 'p10', 'p11', 'p14')\n",
            "('p02', 'p04', 'p05', 'p06', 'p07', 'p08', 'p11', 'p14')\n",
            "('p03', 'p05', 'p07', 'p09', 'p10', 'p12')\n",
            "('p02', 'p03', 'p05', 'p06', 'p07', 'p09', 'p10', 'p14')\n",
            "('p02', 'p03', 'p04', 'p06', 'p08', 'p09', 'p11', 'p14')\n",
            "('p01', 'p03', 'p07', 'p08', 'p09', 'p13', 'p14')\n",
            "('p01', 'p03', 'p05', 'p06', 'p07', 'p08', 'p10', 'p11')\n",
            "('p01', 'p02', 'p03', 'p06', 'p08', 'p09', 'p10', 'p12')\n",
            "('p01', 'p04', 'p05', 'p07', 'p08', 'p12', 'p13')\n",
            "('p02', 'p05', 'p06', 'p08', 'p09', 'p10', 'p12')\n",
            "('p02', 'p04', 'p05', 'p06', 'p09', 'p11', 'p13')\n",
            "('p01', 'p02', 'p04', 'p05', 'p06', 'p07', 'p08', 'p10', 'p14')\n",
            "('p03', 'p07', 'p09', 'p11', 'p12', 'p14')\n",
            "('p02', 'p03', 'p04', 'p07', 'p09', 'p10', 'p13')\n",
            "('p02', 'p03', 'p05', 'p07', 'p09', 'p10', 'p11')\n",
            "('p07', 'p10', 'p12', 'p13', 'p14')\n",
            "('p01', 'p03', 'p04', 'p05', 'p06', 'p09', 'p10', 'p13')\n",
            "('p03', 'p05', 'p06', 'p07', 'p08', 'p13', 'p14')\n",
            "('p01', 'p05', 'p09', 'p11', 'p12', 'p13')\n",
            "('p02', 'p04', 'p05', 'p07', 'p09', 'p10', 'p12')\n",
            "('p01', 'p02', 'p04', 'p05', 'p07', 'p08', 'p11', 'p13')\n",
            "('p01', 'p04', 'p05', 'p07', 'p08', 'p11', 'p13')\n",
            "('p01', 'p02', 'p03', 'p05', 'p07', 'p09', 'p12', 'p14')\n",
            "('p02', 'p03', 'p04', 'p07', 'p12', 'p13', 'p14')\n",
            "('p04', 'p06', 'p08', 'p09', 'p11', 'p13')\n"
          ]
        }
      ]
    }
  ]
}